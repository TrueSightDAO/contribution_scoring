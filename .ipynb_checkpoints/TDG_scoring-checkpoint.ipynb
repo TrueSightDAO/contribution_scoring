{
 "cells": [
  {
   "cell_type": "code",
   "execution_count": 1,
   "id": "d14bc39b-f889-4adc-af30-4e0da8ca914f",
   "metadata": {},
   "outputs": [],
   "source": [
    "# Importing for system files\n",
    "import os\n",
    "import sys\n",
    "import csv\n",
    "import pprint"
   ]
  },
  {
   "cell_type": "code",
   "execution_count": 2,
   "id": "66ecabc9-a801-44f9-b1df-1f7a1352aabf",
   "metadata": {},
   "outputs": [
    {
     "data": {
      "text/plain": [
       "True"
      ]
     },
     "execution_count": 2,
     "metadata": {},
     "output_type": "execute_result"
    }
   ],
   "source": [
    "# Loading environmental variables \n",
    "from dotenv import load_dotenv\n",
    "load_dotenv()"
   ]
  },
  {
   "cell_type": "code",
   "execution_count": 3,
   "id": "dcabea67-678c-4da1-984f-96cb3779ebe7",
   "metadata": {},
   "outputs": [],
   "source": [
    "# Import System Files\n",
    "dir_path = os.path.dirname(os.path.realpath('__file__'))\n",
    "sys.path.append(dir_path + '/lib/')  \n",
    "from process_work import process_work"
   ]
  },
  {
   "cell_type": "code",
   "execution_count": 4,
   "id": "bc7e196c-454b-4623-941d-c8aeb8295378",
   "metadata": {},
   "outputs": [],
   "source": [
    "# For processing WhatsApp data file\n",
    "from whatstk import df_from_whatsapp\n",
    "from whatstk.data import whatsapp_urls\n"
   ]
  },
  {
   "cell_type": "code",
   "execution_count": 5,
   "id": "401b6b26-378c-4190-bed3-8489537b4971",
   "metadata": {},
   "outputs": [],
   "source": [
    "# Date before which chat is not scored\n",
    "cut_off_date = 20231214\n",
    "file_key = '20240912_edgar_chat'\n",
    "\n",
    "# cut_off_date = 20240607\n",
    "# file_key = '20240912_beerhall_chat'\n",
    "\n",
    "# cut_off_date = 20240605\n",
    "# file_key = '20240912_townhall_chat'\n",
    "\n",
    "# cut_off_date = 20240607\n",
    "# file_key = '20240912_sunmint_chat'\n",
    "\n",
    "# cut_off_date = 20240602\n",
    "# file_key = '20240912_agroverse_chat'\n",
    "\n",
    "# file_key = '20231213_townhall_chat'\n",
    "# file_key = '20231213_beerhall_chat'\n",
    "# file_key = '20231214_agroverse_chat'\n",
    "# file_key = '20231214_main_dao_website_chat'\n",
    "# file_key = '20240603_agroverse_chat'\n",
    "# file_key = '20240608_sunmint'\n",
    "\n"
   ]
  },
  {
   "cell_type": "code",
   "execution_count": 6,
   "id": "43780fd2-0b6d-4e15-89f7-90b793563bd7",
   "metadata": {},
   "outputs": [
    {
     "ename": "NameError",
     "evalue": "name 'df_from_whatsapp' is not defined",
     "output_type": "error",
     "traceback": [
      "\u001b[0;31m---------------------------------------------------------------------------\u001b[0m",
      "\u001b[0;31mNameError\u001b[0m                                 Traceback (most recent call last)",
      "Cell \u001b[0;32mIn[6], line 2\u001b[0m\n\u001b[1;32m      1\u001b[0m \u001b[38;5;66;03m# Importing WhatsApp data file\u001b[39;00m\n\u001b[0;32m----> 2\u001b[0m df \u001b[38;5;241m=\u001b[39m \u001b[43mdf_from_whatsapp\u001b[49m(filepath\u001b[38;5;241m=\u001b[39m\u001b[38;5;124mf\u001b[39m\u001b[38;5;124m\"\u001b[39m\u001b[38;5;124m./data/\u001b[39m\u001b[38;5;132;01m{\u001b[39;00mfile_key\u001b[38;5;132;01m}\u001b[39;00m\u001b[38;5;124m.txt\u001b[39m\u001b[38;5;124m\"\u001b[39m)\n\u001b[1;32m      3\u001b[0m df\u001b[38;5;241m.\u001b[39mhead(\u001b[38;5;241m100\u001b[39m)\n\u001b[1;32m      5\u001b[0m \u001b[38;5;66;03m# Setup work analysis file\u001b[39;00m\n",
      "\u001b[0;31mNameError\u001b[0m: name 'df_from_whatsapp' is not defined"
     ]
    }
   ],
   "source": [
    "# Importing WhatsApp data file\n",
    "df = df_from_whatsapp(filepath=f\"./data/{file_key}.txt\")\n",
    "df.head(100)\n",
    "\n",
    "# Setup work analysis file\n",
    "analysis_file = open(f\"analysis/{file_key}.csv\", 'w')\n",
    "analysis_writer = csv.writer(analysis_file)\n",
    "\n",
    "header = ['Contributor Name', 'Project Name', 'Contribution Made', 'Rubric classification', 'TDGs Provisioned', 'Status', 'TDGs Issued', 'Status date']\n",
    "# data = ['Afghanistan', 652090, 'AF', 'AFG']\n",
    "analysis_writer.writerow(header)\n",
    "\n",
    "pp = pprint.PrettyPrinter(indent=4)"
   ]
  },
  {
   "cell_type": "code",
   "execution_count": null,
   "id": "a0e32c3e-23b6-4951-9b7a-2661d9a18126",
   "metadata": {},
   "outputs": [],
   "source": [
    "# For OpenAI client\n",
    "from openai import OpenAI\n",
    "\n",
    "# Acquire OpenAI API Key via this URL \n",
    "#    https://platform.openai.com/api-keys\n",
    "# Save Secret in .env file with \n",
    "#    OPENAI_API_KEY=YOUR SECRET KEY\n",
    "\n",
    "openai_client = OpenAI(\n",
    "    # This is the default and can be omitted\n",
    "    api_key=os.environ.get(\"OPENAI_API_KEY\"),\n",
    ")"
   ]
  },
  {
   "cell_type": "code",
   "execution_count": null,
   "id": "94166e37-f6de-48c6-ad54-1eb2caa75517",
   "metadata": {},
   "outputs": [],
   "source": [
    "total_rows = df.count()['date']"
   ]
  },
  {
   "cell_type": "code",
   "execution_count": null,
   "id": "c48820c2-c742-4040-8d32-e51eb73bd223",
   "metadata": {},
   "outputs": [],
   "source": [
    "# Calling OpenAi API to get time taken for work done\n",
    "def check_tdg_issued(work_description):\n",
    "    payload = f\"We award 100TDG for every hour of contribution made that was explicitly reported in the Action Description. \\\n",
    "                We award 1.65TDG for every minute of contribution made that was explicitly reported in the Action Description. \\\n",
    "                 Amount of TDG issued should be prorated based on actual time explicitly reported\\\n",
    "                 Time taken indicated in the 'Action Description' may also appear in the following formats as a stand alone sentences\\\n",
    "                     Time Taken : X Hours \\\n",
    "                     Time Taken : Y Minutes \\\n",
    "                     \\\n",
    "                 We award 1TDG for each 1USD of expenses paid for on behalf by DAO member \\\n",
    "                 There are only two available options for 'Rubric classification' and they are: \\\n",
    "                     '100TDG For every 1 hour of human effort' \\\n",
    "                     '1TDG For every 1 USD of liquidity injected' \\\n",
    "                     \\\n",
    "                 Response must be short and concise\\\n",
    "                 Response must be in a single line CSV format. Response must not include headers\\\n",
    "                     Rubric classification (String); TDGs Issued (2 decimal float)\\\n",
    "                     \\\n",
    "                 If Action Description does not make sense return the following values \\\n",
    "                     Unknown; 0 \\\n",
    "                     \\\n",
    "                 For the following 'Action Description' determine Rubric classification and TDGs Issued \\\n",
    "                     \\\n",
    "                 Action Description:\\\n",
    "                 {work_description}.\"\n",
    "    \n",
    "    work_process_completion = openai_client.chat.completions.create(\n",
    "        messages=[\n",
    "            {\n",
    "                \"role\": \"user\",\n",
    "                \"content\": payload,\n",
    "            }\n",
    "        ],\n",
    "        model=\"gpt-3.5-turbo\",\n",
    "    )\n",
    "    return work_process_completion.choices[0].message.content\n",
    "\n",
    "# response = check_tdg_issued(\"Gary Teh walked the dog for 1 hour\")"
   ]
  },
  {
   "cell_type": "code",
   "execution_count": null,
   "id": "dfb907f3-26b3-4873-a504-1b46cdd919a2",
   "metadata": {
    "scrolled": true
   },
   "outputs": [],
   "source": [
    "format = '%Y%m%d'\n",
    "for index, row in df.iterrows():\n",
    "    # Doesn't process record if occurred before a specific date\n",
    "    if int(row['date'].strftime(format)) < cut_off_date:\n",
    "        continue\n",
    "    \n",
    "    clean_work_description = row['message'].encode('ascii','ignore') \n",
    "    response = check_tdg_issued(clean_work_description)\n",
    "    openai_result = response.split(';')\n",
    "    \n",
    "    classification = \"Unknown\"\n",
    "    tdg_issue = 0\n",
    "    the_status = \"Successfully Completed / Full Provision Awarded\"\n",
    "    \n",
    "    if len(openai_result) == 2:\n",
    "        classification = openai_result[0]\n",
    "        tdg_issue = openai_result[1]\n",
    "        \n",
    "    if classification == \"Unknown\":\n",
    "        the_status = \"\"\n",
    "\n",
    "    # header = ['Contributor Name', 'Project Name', 'Contribution Made', 'Rubric classification', 'TDGs Provisioned', 'Status', 'TDGs Issued', 'Status date']\n",
    "    data = [\n",
    "        row['username'], \n",
    "        '',\n",
    "        row['message'], \n",
    "        classification, \n",
    "        tdg_issue, \n",
    "        the_status,\n",
    "        tdg_issue, \n",
    "        row['date'].strftime(format)\n",
    "    ]\n",
    "    print(\"\")\n",
    "    print(f\"Processing {index} of {total_rows}: \")\n",
    "    pp.pprint(response)\n",
    "    pp.pprint(openai_result)\n",
    "    pp.pprint(len(openai_result))\n",
    "    pp.pprint(data)\n",
    "    \n",
    "    \n",
    "    analysis_writer.writerow(data)        "
   ]
  },
  {
   "cell_type": "code",
   "execution_count": null,
   "id": "1bd6b5ca-1f9d-472d-902d-d6a1b8789f9c",
   "metadata": {},
   "outputs": [],
   "source": [
    "analysis_file.close()"
   ]
  },
  {
   "cell_type": "code",
   "execution_count": null,
   "id": "68ea079f-c7c0-4c77-83fd-cb9cf6acdb7b",
   "metadata": {},
   "outputs": [],
   "source": [
    "# print(f\"We award 100TDG for every hour of contribution made that was explicitly reported in the Action Description. \\\n",
    "#                 We award 1.666666666666667TDG for every minute of contribution made that was explicitly reported in the Action Description. \\\n",
    "#                  Amount of TDG issued should be prorated based on actual time explicitly reported\\\n",
    "#                  Time taken indicated in the 'Action Description' may also appear in the following formats as a stand alone sentences\\\n",
    "#                      Time Taken : X Hours \\\n",
    "#                      Time Taken : Y Minutes \\\n",
    "#                      \\\n",
    "#                  We award 1TDG for every 1USD of expenses paid for onbehalf by DAO member \\\n",
    "#                  There are only two available options for 'Rubric classification' and they are: \\\n",
    "#                      'Contributed Fiat Funding' \\\n",
    "#                      'Contributed Human Effort' \\\n",
    "#                      \\\n",
    "#                  Response must be short and concise\\\n",
    "#                  Response must be in a single line CSV format. Response must not include headers\\\n",
    "#                      Rubric classification (String); TDGs Issued (Integer)\\\n",
    "#                      \\\n",
    "#                  If Action Description does not make sense return the following values \\\n",
    "#                      Unknown; 0 \\\n",
    "#                      \\\n",
    "#                  For the following 'Action Description' determine Rubric classification and TDGs Issued \\\n",
    "#                      \\\n",
    "#                  Action Description:\\\n",
    "#                  Text submission by DAO member in WhatsApp channels.\")\n"
   ]
  },
  {
   "cell_type": "code",
   "execution_count": null,
   "id": "9a2bae7d-4bc8-4d45-af7e-9bd63e33d022",
   "metadata": {},
   "outputs": [],
   "source": []
  }
 ],
 "metadata": {
  "kernelspec": {
   "display_name": "Python 3 (ipykernel)",
   "language": "python",
   "name": "python3"
  },
  "language_info": {
   "codemirror_mode": {
    "name": "ipython",
    "version": 3
   },
   "file_extension": ".py",
   "mimetype": "text/x-python",
   "name": "python",
   "nbconvert_exporter": "python",
   "pygments_lexer": "ipython3",
   "version": "3.11.6"
  }
 },
 "nbformat": 4,
 "nbformat_minor": 5
}

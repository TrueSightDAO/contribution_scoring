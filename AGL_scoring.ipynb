{
 "cells": [
  {
   "cell_type": "code",
   "execution_count": 70,
   "id": "d14bc39b-f889-4adc-af30-4e0da8ca914f",
   "metadata": {},
   "outputs": [],
   "source": [
    "# Importing for system files\n",
    "import os\n",
    "import sys\n",
    "import csv\n",
    "import pprint"
   ]
  },
  {
   "cell_type": "code",
   "execution_count": 71,
   "id": "66ecabc9-a801-44f9-b1df-1f7a1352aabf",
   "metadata": {},
   "outputs": [
    {
     "data": {
      "text/plain": [
       "True"
      ]
     },
     "execution_count": 71,
     "metadata": {},
     "output_type": "execute_result"
    }
   ],
   "source": [
    "# Loading environmental variables \n",
    "from dotenv import load_dotenv\n",
    "load_dotenv()"
   ]
  },
  {
   "cell_type": "code",
   "execution_count": 72,
   "id": "dcabea67-678c-4da1-984f-96cb3779ebe7",
   "metadata": {},
   "outputs": [],
   "source": [
    "# Import System Files\n",
    "dir_path = os.path.dirname(os.path.realpath('__file__'))\n",
    "sys.path.append(dir_path + '/lib/')  \n",
    "from process_work import process_work"
   ]
  },
  {
   "cell_type": "code",
   "execution_count": 73,
   "id": "bc7e196c-454b-4623-941d-c8aeb8295378",
   "metadata": {},
   "outputs": [],
   "source": [
    "# For processing WhatsApp data file\n",
    "from whatstk import df_from_txt_whatsapp\n",
    "from whatstk.data import whatsapp_urls\n",
    "\n",
    "# Date before which chat is not scored\n",
    "cut_off_date = 20240506"
   ]
  },
  {
   "cell_type": "code",
   "execution_count": 74,
   "id": "401b6b26-378c-4190-bed3-8489537b4971",
   "metadata": {},
   "outputs": [],
   "source": [
    "# file_key = '20231213_townhall_chat'\n",
    "# file_key = '20231213_beerhall_chat'\n",
    "# file_key = '20231214_agroverse_chat'\n",
    "# file_key = '20231214_main_dao_website_chat'\n",
    "file_key = '20240531_agl_chat'\n"
   ]
  },
  {
   "cell_type": "code",
   "execution_count": 75,
   "id": "43780fd2-0b6d-4e15-89f7-90b793563bd7",
   "metadata": {},
   "outputs": [],
   "source": [
    "# Importing WhatsApp data file\n",
    "df = df_from_txt_whatsapp(filepath=f\"./data/{file_key}.txt\")\n",
    "df.head(100)\n",
    "\n",
    "# Setup work analysis file\n",
    "analysis_file = open(f\"analysis/{file_key}.csv\", 'w')\n",
    "analysis_writer = csv.writer(analysis_file)\n",
    "\n",
    "header = ['Date', 'Description', 'Entity', 'Amount', 'Currency', 'Transaction Type']\n",
    "# data = ['20231109', Chat message, 'TrueSight DAO', 'USD', 'Investment']\n",
    "analysis_writer.writerow(header)\n",
    "\n",
    "pp = pprint.PrettyPrinter(indent=4)"
   ]
  },
  {
   "cell_type": "code",
   "execution_count": 76,
   "id": "a0e32c3e-23b6-4951-9b7a-2661d9a18126",
   "metadata": {},
   "outputs": [],
   "source": [
    "# For OpenAI client\n",
    "from openai import OpenAI\n",
    "\n",
    "# Acquire OpenAI API Key via this URL \n",
    "#    https://platform.openai.com/api-keys\n",
    "# Save Secret in .env file with \n",
    "#    OPENAI_API_KEY=YOUR SECRET KEY\n",
    "\n",
    "openai_client = OpenAI(\n",
    "    # This is the default and can be omitted\n",
    "    api_key=os.environ.get(\"OPENAI_API_KEY\"),\n",
    ")"
   ]
  },
  {
   "cell_type": "code",
   "execution_count": 77,
   "id": "94166e37-f6de-48c6-ad54-1eb2caa75517",
   "metadata": {},
   "outputs": [],
   "source": [
    "total_rows = df.count()['date']"
   ]
  },
  {
   "cell_type": "code",
   "execution_count": 89,
   "id": "c48820c2-c742-4040-8d32-e51eb73bd223",
   "metadata": {},
   "outputs": [],
   "source": [
    "# Calling OpenAi API to get time taken for work done\n",
    "def check_agl_transaction(work_description):\n",
    "    payload = f\"Agroverse maintain a chat log of all activities pertaining to our operations\\\n",
    "                   There are primarily the following types of activities in our operations\\\n",
    "                   investor injected capital to finance shipment of cacao nibs\\\n",
    "                   paid supplier for cacao nibs\\\n",
    "                   paid freighting company for transport of cacao nibs\\\n",
    "                   paid customs broker for clearance of cacao nibs\\\n",
    "                   assembled cacao into bags\\\n",
    "                   sold unpackaged cacao\\\n",
    "                   sold packaged 8 ounce cacao nibs\\\n",
    "                   \\\n",
    "                   \\\n",
    "                For each chat log entry if it corresponds to any of the activity type listed above then indicate the corresponding Transaction Type for it\\\n",
    "                \\\n",
    "                   'Investment' if investor injected capital to finance shipment of cacao nibs\\\n",
    "                   'Asset' if paying supplier for cacao nibs\\\n",
    "                   'Asset' if paying freighting company for transport of cacao nibs\\\n",
    "                   'Asset' if paying customs broker for clearance of cacao nibs\\\n",
    "                   'Asset' if assembled cacao into bags\\\n",
    "                   'Asset' if sold unpackaged cacao\\\n",
    "                   'Asset' if sold packaged 8 ounce cacao nibs\\\n",
    "                   'Withdrawal' if investor decided to withdrawl cacao nibs owned by him from Agroverse management\\\n",
    "                   \\\n",
    "                   \\\n",
    "                 These are the types of currency that are recognized\\\n",
    "                    USD\\\n",
    "                    Brazilian Reis\\\n",
    "                    Cacao Nibs KG\\\n",
    "                    Kraft Pouches\\\n",
    "                    8 Ounce Package Craft Pouch\\\n",
    "                    1 Gallon Zip Loc Bags\\\n",
    "                    espresso cup\\\n",
    "                    donation\\\n",
    "                 \\\n",
    "                 Response must be short and concise\\\n",
    "                 Response must be in a single line CSV format. Response must not include headers\\\n",
    "                    Currency 1 (String); Amount 1 (Float); Currency 2 (String); Amount 2 (Float); Transaction Type (String)\\\n",
    "                 \\\n",
    "                 For each transaction, there will likely be up to two different currencies involved\\\n",
    "                   Example 1: Macy bought 1 bag of 8 ounce of cacao nibs for USD $10\\\n",
    "                       we should expect\\\n",
    "                          8 Ounce Package Craft Pouch; -1; USD; 10.00; Assets\\\n",
    "                          \\\n",
    "                   Example 2: Sold 1 pound for usd20 to Chris\\\n",
    "                       we should expect\\\n",
    "                          Cacao Nibs KG; -0.453592; USD; 20.00; Assets\\\n",
    "                   \\\n",
    "                   Example 3: Sold one cup of espresso for one USD\\\n",
    "                       we should expect\\\n",
    "                          Espress cup; -1; USD; 1.00; Assets\\\n",
    "                   \\\n",
    "                   Example 4: Received donation of one USD\\\n",
    "                       we should expect\\\n",
    "                          Unknown; 0; USD; 1.00; Assets\\\n",
    "                   \\\n",
    "                 If Action Description does not make sense return the following values \\\n",
    "                     Unknown; 0; Unknown; 0; Unknown\\\n",
    "                 \\\n",
    "                 If it is not clear what the currency type maps to in the Action description, don't assume anything just return the following values \\\n",
    "                     Unknown; 0; Unknown; 0; Unknown\\\n",
    "                     \\\n",
    "                     Example: Spend  $5.99 for reusable coffee bag\\\n",
    "                         We should expect\\\n",
    "                          Unknown; 0; USD; 5.99; Assets\\\n",
    "                     \\\n",
    "                 For the following 'chat log entry' determine Currency 1, Amount 1, Currency 2, Amount 2 and Transaction Type \\\n",
    "                     \\\n",
    "                 \\\n",
    "                 {work_description}.\"\n",
    "    \n",
    "    work_process_completion = openai_client.chat.completions.create(\n",
    "        messages=[\n",
    "            {\n",
    "                \"role\": \"user\",\n",
    "                \"content\": payload,\n",
    "            }\n",
    "        ],\n",
    "        model=\"gpt-3.5-turbo\",\n",
    "    )\n",
    "    return work_process_completion.choices[0].message.content\n",
    "\n",
    "# response = check_agl_transaction(\"Gary Teh walked the dog for 1 hour\")"
   ]
  },
  {
   "cell_type": "code",
   "execution_count": 92,
   "id": "dfb907f3-26b3-4873-a504-1b46cdd919a2",
   "metadata": {},
   "outputs": [
    {
     "name": "stdout",
     "output_type": "stream",
     "text": [
      "\n",
      "\n",
      "\n",
      "\n",
      "Processing 7931 of 8118: \n",
      "Spend  $5.99 for reusable coffee bag\n",
      "Raw results:\n",
      "'Unknown; 0; USD; 5.99; Asset'\n",
      "Formatted results:\n",
      "['Unknown', ' 0', ' USD', ' 5.99', ' Asset']\n",
      "Formatted results length:\n",
      "5\n",
      "[   '20240506',\n",
      "    'Spend  $5.99 for reusable coffee bag',\n",
      "    'Gary Teh',\n",
      "    ' 5.99',\n",
      "    ' USD',\n",
      "    ' Asset']\n"
     ]
    },
    {
     "ename": "ValueError",
     "evalue": "I/O operation on closed file.",
     "output_type": "error",
     "traceback": [
      "\u001b[0;31m---------------------------------------------------------------------------\u001b[0m",
      "\u001b[0;31mValueError\u001b[0m                                Traceback (most recent call last)",
      "Cell \u001b[0;32mIn[92], line 73\u001b[0m\n\u001b[1;32m     64\u001b[0m data_2 \u001b[38;5;241m=\u001b[39m [\n\u001b[1;32m     65\u001b[0m     row[\u001b[38;5;124m'\u001b[39m\u001b[38;5;124mdate\u001b[39m\u001b[38;5;124m'\u001b[39m]\u001b[38;5;241m.\u001b[39mstrftime(\u001b[38;5;28mformat\u001b[39m),\n\u001b[1;32m     66\u001b[0m     row[\u001b[38;5;124m'\u001b[39m\u001b[38;5;124mmessage\u001b[39m\u001b[38;5;124m'\u001b[39m], \n\u001b[0;32m   (...)\u001b[0m\n\u001b[1;32m     70\u001b[0m     transaction_type\n\u001b[1;32m     71\u001b[0m ]\n\u001b[1;32m     72\u001b[0m pp\u001b[38;5;241m.\u001b[39mpprint(data_2)\n\u001b[0;32m---> 73\u001b[0m analysis_writer\u001b[38;5;241m.\u001b[39mwriterow(data_2)  \n",
      "\u001b[0;31mValueError\u001b[0m: I/O operation on closed file."
     ]
    }
   ],
   "source": [
    "format = '%Y%m%d'\n",
    "for index, row in df.iterrows():\n",
    "    # Doesn't process record if occurred before a specific date\n",
    "    if int(row['date'].strftime(format)) < cut_off_date:\n",
    "        continue\n",
    "    \n",
    "    clean_work_description = row['message'].encode('ascii','ignore') \n",
    "    response = check_agl_transaction(clean_work_description)\n",
    "    openai_result = response.split(';')\n",
    "    \n",
    "    currency_1 = \"Unknown\"\n",
    "    amount_1 = 0\n",
    "    currency_2 = \"Unknown\"\n",
    "    amount_2 = 0    \n",
    "    transaction_type = \"Unknown\"\n",
    "    \n",
    "    if len(openai_result) == 5:\n",
    "        currency_1 = openai_result[0]\n",
    "        amount_1 = openai_result[1]\n",
    "        currency_2 = openai_result[2]\n",
    "        amount_2 = openai_result[3]        \n",
    "        transaction_type = openai_result[4]\n",
    "\n",
    "    # header = ['Date', 'Description', 'Entity', 'Amount', 'Currency', 'Transaction Type']\n",
    "    \n",
    "    print(\"\\n\\n\\n\")\n",
    "    print(f\"Processing {index} of {total_rows}: \")\n",
    "    print(row['message'])\n",
    "    print('Raw results:')\n",
    "    pp.pprint(response)\n",
    "    print('Formatted results:')\n",
    "    pp.pprint(openai_result)\n",
    "    print('Formatted results length:')\n",
    "    pp.pprint(len(openai_result))\n",
    "\n",
    "\n",
    "    if currency_1 == \"Unknown\" and currency_2 == \"Unknown\" :\n",
    "        data_1 = [\n",
    "            row['date'].strftime(format),\n",
    "            row['message'], \n",
    "            row['username'], \n",
    "            amount_1, \n",
    "            currency_1, \n",
    "            transaction_type\n",
    "        ]\n",
    "        print('Row of record written 1:')\n",
    "        pp.pprint(data_1)\n",
    "        analysis_writer.writerow(data_1)  \n",
    "    \n",
    "    if currency_1 != \"Unknown\":\n",
    "        data_1 = [\n",
    "            row['date'].strftime(format),\n",
    "            row['message'], \n",
    "            row['username'], \n",
    "            amount_1, \n",
    "            currency_1, \n",
    "            transaction_type\n",
    "        ]\n",
    "        print('Row of record written 2:')\n",
    "        pp.pprint(data_1)\n",
    "        analysis_writer.writerow(data_1)  \n",
    "\n",
    "    if currency_2 != \"Unknown\":\n",
    "        data_2 = [\n",
    "            row['date'].strftime(format),\n",
    "            row['message'], \n",
    "            row['username'], \n",
    "            amount_2, \n",
    "            currency_2, \n",
    "            transaction_type\n",
    "        ]\n",
    "        pp.pprint(data_2)\n",
    "        analysis_writer.writerow(data_2)  \n",
    "    \n",
    "    \n",
    "          "
   ]
  },
  {
   "cell_type": "code",
   "execution_count": null,
   "id": "1bd6b5ca-1f9d-472d-902d-d6a1b8789f9c",
   "metadata": {},
   "outputs": [],
   "source": [
    "analysis_file.close()"
   ]
  },
  {
   "cell_type": "code",
   "execution_count": null,
   "id": "68ea079f-c7c0-4c77-83fd-cb9cf6acdb7b",
   "metadata": {},
   "outputs": [],
   "source": []
  },
  {
   "cell_type": "code",
   "execution_count": 41,
   "id": "2bd9b269-b203-4b4a-b7b2-7e9a6abe28af",
   "metadata": {},
   "outputs": [
    {
     "name": "stdout",
     "output_type": "stream",
     "text": [
      "'8 Ounce Package Craft Pouch; 1; USD; 10.00; Asset'\n"
     ]
    }
   ],
   "source": [
    "payload = 'Sold one more bag for usd10'\n",
    "\n",
    "response = check_agl_transaction(payload)\n",
    "pp.pprint(response)"
   ]
  },
  {
   "cell_type": "code",
   "execution_count": null,
   "id": "f036379c-8f05-4d7e-aedd-a88dd5f8d3d2",
   "metadata": {},
   "outputs": [],
   "source": []
  },
  {
   "cell_type": "code",
   "execution_count": null,
   "id": "ac3ba0d4-cce5-4884-a917-44cb95b9dc63",
   "metadata": {},
   "outputs": [],
   "source": []
  }
 ],
 "metadata": {
  "kernelspec": {
   "display_name": "Python 3 (ipykernel)",
   "language": "python",
   "name": "python3"
  },
  "language_info": {
   "codemirror_mode": {
    "name": "ipython",
    "version": 3
   },
   "file_extension": ".py",
   "mimetype": "text/x-python",
   "name": "python",
   "nbconvert_exporter": "python",
   "pygments_lexer": "ipython3",
   "version": "3.11.6"
  }
 },
 "nbformat": 4,
 "nbformat_minor": 5
}
